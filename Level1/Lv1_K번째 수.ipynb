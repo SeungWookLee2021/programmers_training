{
 "cells": [
  {
   "cell_type": "code",
   "execution_count": 25,
   "id": "b6c5fae8",
   "metadata": {},
   "outputs": [
    {
     "data": {
      "text/plain": [
       "[5, 6, 3]"
      ]
     },
     "execution_count": 25,
     "metadata": {},
     "output_type": "execute_result"
    }
   ],
   "source": [
    "# 초안\n",
    "array = [1, 5, 2, 6, 3, 7, 4]\n",
    "commands = [[2, 5, 3], [4, 4, 1], [1, 7, 3]]\n",
    "new_array = []\n",
    "answer = []\n",
    "\n",
    "for x in range(3):\n",
    "    new_array.append(array[(commands[x][0] - 1):commands[x][1]])\n",
    "    new_array[x].sort()\n",
    "    answer.append(new_array[x][(commands[x][2] - 1)])\n",
    "new_array\n",
    "answer\n"
   ]
  },
  {
   "cell_type": "code",
   "execution_count": 26,
   "id": "e5494168",
   "metadata": {},
   "outputs": [],
   "source": [
    "def solution(array, commands):\n",
    "    answer = []\n",
    "    new_array = []\n",
    "    \n",
    "    for x in range(len(commands)):\n",
    "        new_array.append(array[(commands[x][0] - 1):commands[x][1]])\n",
    "        new_array[x].sort()\n",
    "        answer.append(new_array[x][(commands[x][2] - 1)])\n",
    "    \n",
    "    return answer"
   ]
  }
 ],
 "metadata": {
  "kernelspec": {
   "display_name": "Python 3",
   "language": "python",
   "name": "python3"
  },
  "language_info": {
   "codemirror_mode": {
    "name": "ipython",
    "version": 3
   },
   "file_extension": ".py",
   "mimetype": "text/x-python",
   "name": "python",
   "nbconvert_exporter": "python",
   "pygments_lexer": "ipython3",
   "version": "3.8.10"
  }
 },
 "nbformat": 4,
 "nbformat_minor": 5
}
