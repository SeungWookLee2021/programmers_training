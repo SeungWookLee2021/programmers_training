{
 "cells": [
  {
   "cell_type": "code",
   "execution_count": 4,
   "id": "8608ee39",
   "metadata": {},
   "outputs": [],
   "source": [
    "def solution(absolutes, signs):\n",
    "    data = enumerate(absolutes)\n",
    "    real_nums = []\n",
    "    for i, num in data:\n",
    "        if signs[i] == True:\n",
    "            real_nums.append(num)\n",
    "        elif signs[i] == False:\n",
    "            real_nums.append(-num)\n",
    "    answer = sum(real_nums)\n",
    "    return answer"
   ]
  }
 ],
 "metadata": {
  "kernelspec": {
   "display_name": "Python 3",
   "language": "python",
   "name": "python3"
  },
  "language_info": {
   "codemirror_mode": {
    "name": "ipython",
    "version": 3
   },
   "file_extension": ".py",
   "mimetype": "text/x-python",
   "name": "python",
   "nbconvert_exporter": "python",
   "pygments_lexer": "ipython3",
   "version": "3.8.10"
  }
 },
 "nbformat": 4,
 "nbformat_minor": 5
}
