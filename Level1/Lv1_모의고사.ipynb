{
 "cells": [
  {
   "cell_type": "code",
   "execution_count": 4,
   "id": "a24154e9",
   "metadata": {},
   "outputs": [],
   "source": [
    "def solution(answers):\n",
    "    student1 = [1,2,3,4,5]\n",
    "    student2 = [2,1,2,3,2,4,2,5]\n",
    "    student3 = [3,3,1,1,2,2,4,4,5,5]\n",
    "    count1, count2, count3 = 0, 0, 0\n",
    "    answer = []\n",
    "\n",
    "    for i in range(len(answers)):\n",
    "        if answers[i] == student1[i%len(student1)]:\n",
    "            count1 += 1\n",
    "        if answers[i] == student2[i%len(student2)]:\n",
    "            count2 += 1\n",
    "        if answers[i] == student3[i%len(student3)]:\n",
    "            count3 += 1\n",
    "    max_answer = max(count1, count2, count3)\n",
    "    if count1 == max_answer:\n",
    "        answer.append(1)\n",
    "    if count2 == max_answer:\n",
    "        answer.append(2)\n",
    "    if count3 == max_answer:\n",
    "        answer.append(3)\n",
    "    return answer"
   ]
  }
 ],
 "metadata": {
  "kernelspec": {
   "display_name": "Python 3",
   "language": "python",
   "name": "python3"
  },
  "language_info": {
   "codemirror_mode": {
    "name": "ipython",
    "version": 3
   },
   "file_extension": ".py",
   "mimetype": "text/x-python",
   "name": "python",
   "nbconvert_exporter": "python",
   "pygments_lexer": "ipython3",
   "version": "3.8.10"
  }
 },
 "nbformat": 4,
 "nbformat_minor": 5
}
