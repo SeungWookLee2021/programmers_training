{
 "cells": [
  {
   "cell_type": "code",
   "execution_count": 16,
   "id": "1b6d1645",
   "metadata": {},
   "outputs": [],
   "source": [
    "def get_distance(finger_position, next_num_position):\n",
    "    \n",
    "    distance = abs(finger_position[0] - next_num_position[0]) + abs(finger_position[1] - next_num_position[1])\n",
    "    \n",
    "    return distance\n",
    "\n",
    "def solution(numbers, hand):\n",
    "    keypad = {\n",
    "        1: [0, 0], 2: [0, 1], 3: [0, 2],\n",
    "        4: [1, 0], 5: [1, 1], 6: [1, 2],\n",
    "        7: [2, 0], 8: [2, 1], 9: [2, 2],\n",
    "        0: [3, 1]\n",
    "    }\n",
    "    \n",
    "    left_finger_nums = [1, 4, 7]\n",
    "    right_finger_nums = [3, 6, 9]\n",
    "    near_finger_nums = [2, 5, 8, 0]\n",
    "    left_finger_position = [3, 0]\n",
    "    right_finger_position = [3, 2]\n",
    "    answer = ''\n",
    "    \n",
    "    for num in numbers:\n",
    "        if num in left_finger_nums:\n",
    "            answer += 'L'\n",
    "            left_finger_position = keypad[num]\n",
    "        elif num in right_finger_nums:\n",
    "            answer += 'R'\n",
    "            right_finger_position = keypad[num]\n",
    "        elif num in near_finger_nums:\n",
    "            left_finger_distance = get_distance(left_finger_position, keypad[num])\n",
    "            right_finger_distance = get_distance(right_finger_position, keypad[num])\n",
    "\n",
    "            if left_finger_distance > right_finger_distance:\n",
    "                answer += 'R'\n",
    "                right_finger_position = keypad[num]\n",
    "            elif left_finger_distance < right_finger_distance:\n",
    "                answer += 'L'\n",
    "                left_finger_position = keypad[num]\n",
    "            elif left_finger_distance == right_finger_distance:\n",
    "                answer += hand[0].upper()\n",
    "                if hand =='right':\n",
    "                    right_finger_position = keypad[num]\n",
    "                elif hand == 'left':\n",
    "                    left_finger_position = keypad[num]\n",
    "                    \n",
    "    \n",
    "    return answer"
   ]
  },
  {
   "cell_type": "code",
   "execution_count": 17,
   "id": "57f0c676",
   "metadata": {},
   "outputs": [
    {
     "data": {
      "text/plain": [
       "'LLRLLRLLRL'"
      ]
     },
     "execution_count": 17,
     "metadata": {},
     "output_type": "execute_result"
    }
   ],
   "source": [
    "solution([1,2,3,4,5,6,7,8,9,0], 'right')"
   ]
  },
  {
   "cell_type": "code",
   "execution_count": 18,
   "id": "a8f76ccb",
   "metadata": {},
   "outputs": [
    {
     "data": {
      "text/plain": [
       "'LRLLRRLLLRR'"
      ]
     },
     "execution_count": 18,
     "metadata": {},
     "output_type": "execute_result"
    }
   ],
   "source": [
    "solution([7,0,8,2,8,3,1,5,7,6,2], 'left')"
   ]
  }
 ],
 "metadata": {
  "kernelspec": {
   "display_name": "Python 3",
   "language": "python",
   "name": "python3"
  },
  "language_info": {
   "codemirror_mode": {
    "name": "ipython",
    "version": 3
   },
   "file_extension": ".py",
   "mimetype": "text/x-python",
   "name": "python",
   "nbconvert_exporter": "python",
   "pygments_lexer": "ipython3",
   "version": "3.8.10"
  }
 },
 "nbformat": 4,
 "nbformat_minor": 5
}
